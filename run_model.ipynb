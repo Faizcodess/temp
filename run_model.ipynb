{
 "cells": [
  {
   "cell_type": "code",
   "execution_count": null,
   "id": "981c854c",
   "metadata": {},
   "outputs": [],
   "source": [
    "# uncomment and run the lines below if running in google colab\n",
    "# !pip install tensorflow==2.4.3\n",
    "# !git clone https://github.com/jlaihong/image-super-resolution.git\n",
    "# !mv image-super-resolution/* ./"
   ]
  },
  {
   "cell_type": "code",
   "execution_count": 2,
   "id": "a3e7277a",
   "metadata": {},
   "outputs": [
    {
     "name": "stderr",
     "output_type": "stream",
     "text": [
      "c:\\Users\\Dell\\anaconda3\\lib\\site-packages\\scipy\\__init__.py:146: UserWarning: A NumPy version >=1.16.5 and <1.23.0 is required for this version of SciPy (detected version 1.26.2\n",
      "  warnings.warn(f\"A NumPy version >={np_minversion} and <{np_maxversion}\"\n"
     ]
    },
    {
     "name": "stdout",
     "output_type": "stream",
     "text": [
      "WARNING:tensorflow:From c:\\Users\\Dell\\anaconda3\\lib\\site-packages\\keras\\src\\losses.py:2976: The name tf.losses.sparse_softmax_cross_entropy is deprecated. Please use tf.compat.v1.losses.sparse_softmax_cross_entropy instead.\n",
      "\n"
     ]
    }
   ],
   "source": [
    "import os\n",
    "import glob\n",
    "import numpy as np\n",
    "from PIL import Image, ImageOps\n",
    "import tensorflow as tf\n",
    "\n",
    "from datasets.div2k.parameters import Div2kParameters \n",
    "from models.srresnet import build_srresnet\n",
    "from models.pretrained import pretrained_models\n",
    "from utils.prediction import get_sr_image\n",
    "from utils.config import config"
   ]
  },
  {
   "cell_type": "code",
   "execution_count": 3,
   "id": "2fe72874",
   "metadata": {},
   "outputs": [],
   "source": [
    "dataset_key = \"bicubic_x4\"\n",
    "\n",
    "data_path = config.get(\"data_path\", \"\") \n",
    "\n",
    "div2k_folder = os.path.abspath(os.path.join(data_path, \"div2k\"))\n",
    "\n",
    "dataset_parameters = Div2kParameters(dataset_key, save_data_directory=div2k_folder)"
   ]
  },
  {
   "cell_type": "code",
   "execution_count": 4,
   "id": "5a9b6c5b",
   "metadata": {},
   "outputs": [],
   "source": [
    "def load_image(path):\n",
    "    img = Image.open(path)\n",
    "    \n",
    "    was_grayscale = len(img.getbands()) == 1\n",
    "    \n",
    "    if was_grayscale or len(img.getbands()) == 4:\n",
    "        img = img.convert('RGB')\n",
    "    \n",
    "    return was_grayscale, np.array(img)\n"
   ]
  },
  {
   "cell_type": "code",
   "execution_count": 5,
   "id": "53ddafc3",
   "metadata": {},
   "outputs": [],
   "source": [
    "model_name = \"srresnet\"\n",
    "# model_name = \"srgan\""
   ]
  },
  {
   "cell_type": "code",
   "execution_count": 6,
   "id": "ee0187e4",
   "metadata": {},
   "outputs": [],
   "source": [
    "model_key = f\"{model_name}_{dataset_key}\""
   ]
  },
  {
   "cell_type": "code",
   "execution_count": 7,
   "id": "d6dd2475",
   "metadata": {},
   "outputs": [
    {
     "name": "stdout",
     "output_type": "stream",
     "text": [
      "Couldn't find file:  d:\\Academics\\7\\major2\\image-super-resolution-main\\weights\\srresnet_bicubic_x4\\generator.h5 , attempting to download a pretrained model\n",
      "Downloading data from https://image-super-resolution-weights.s3.af-south-1.amazonaws.com/srresnet_bicubic_x4/generator.h5\n",
      "6521248/6521248 [==============================] - 9s 1us/step\n"
     ]
    }
   ],
   "source": [
    "weights_directory = os.path.abspath(f\"weights/{model_key}\")\n",
    "\n",
    "file_path = os.path.join(weights_directory, \"generator.h5\")\n",
    "\n",
    "if not os.path.exists(file_path):\n",
    "    os.makedirs(weights_directory, exist_ok=True)\n",
    "    \n",
    "    print(\"Couldn't find file: \", file_path, \", attempting to download a pretrained model\")\n",
    "    \n",
    "    if model_key not in pretrained_models:\n",
    "        print(f\"Couldn't find pretrained model with key: {model_key}, available pretrained models: {pretrained_models.key()}\")\n",
    "    else:\n",
    "        download_url = pretrained_models[model_key]\n",
    "        file = file_path.split(\"/\")[-1]\n",
    "        tf.keras.utils.get_file(file, download_url, cache_subdir=weights_directory)"
   ]
  },
  {
   "cell_type": "code",
   "execution_count": 9,
   "id": "89375f5a",
   "metadata": {},
   "outputs": [],
   "source": [
    "model = build_srresnet(scale=dataset_parameters.scale)\n",
    "\n",
    "os.makedirs(weights_directory, exist_ok=True)\n",
    "weights_file = f'{weights_directory}/generator.h5'\n",
    "\n",
    "model.load_weights(weights_file, by_name=True)"
   ]
  },
  {
   "cell_type": "code",
   "execution_count": null,
   "id": "dfdf8743",
   "metadata": {},
   "outputs": [],
   "source": [
    "results_path = f\"output/{model_key}/\""
   ]
  },
  {
   "cell_type": "code",
   "execution_count": null,
   "id": "9fbfb611",
   "metadata": {},
   "outputs": [],
   "source": [
    "os.makedirs(results_path, exist_ok=True)"
   ]
  },
  {
   "cell_type": "code",
   "execution_count": null,
   "id": "fd8c0c42",
   "metadata": {
    "scrolled": false
   },
   "outputs": [],
   "source": [
    "image_paths = glob.glob(\"input/*\")\n",
    "\n",
    "for image_path in image_paths:\n",
    "    print(image_path)\n",
    "    was_grayscale, lr = load_image(image_path)\n",
    "    \n",
    "    sr = get_sr_image(model, lr)\n",
    "        \n",
    "    if was_grayscale:\n",
    "        sr = ImageOps.grayscale(sr)\n",
    "    \n",
    "    image_name = image_path.split(\"/\")[-1]\n",
    "    sr.save(f\"{results_path}{image_name}\" )"
   ]
  },
  {
   "cell_type": "code",
   "execution_count": null,
   "id": "12f1b996",
   "metadata": {},
   "outputs": [],
   "source": [
    "# zip files for download from colab\n",
    "\n",
    "!zip -r images.zip output"
   ]
  },
  {
   "cell_type": "code",
   "execution_count": null,
   "id": "bc24c18e",
   "metadata": {},
   "outputs": [],
   "source": []
  }
 ],
 "metadata": {
  "kernelspec": {
   "display_name": "Python 3",
   "language": "python",
   "name": "python3"
  },
  "language_info": {
   "codemirror_mode": {
    "name": "ipython",
    "version": 3
   },
   "file_extension": ".py",
   "mimetype": "text/x-python",
   "name": "python",
   "nbconvert_exporter": "python",
   "pygments_lexer": "ipython3",
   "version": "3.9.12"
  }
 },
 "nbformat": 4,
 "nbformat_minor": 5
}
